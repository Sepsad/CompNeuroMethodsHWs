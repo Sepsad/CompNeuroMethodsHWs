{
 "cells": [
  {
   "cell_type": "markdown",
   "metadata": {
    "id": "o8KG_7rCEwkT"
   },
   "source": [
    "### install neurogym"
   ]
  },
  {
   "cell_type": "code",
   "execution_count": null,
   "metadata": {
    "colab": {
     "base_uri": "https://localhost:8080/"
    },
    "executionInfo": {
     "elapsed": 20173,
     "status": "ok",
     "timestamp": 1747645093250,
     "user": {
      "displayName": "Joao Barbosa",
      "userId": "11824080406490878906"
     },
     "user_tz": -120
    },
    "id": "9m_5EueT4ZPh",
    "outputId": "49dc0f29-43b0-423e-8e0b-e1afce48ab0a"
   },
   "outputs": [],
   "source": [
    "# # Install gym\n",
    "# ! pip install gym\n",
    "# #Install neurogym\n",
    "# ! git clone https://github.com/gyyang/neurogym.git\n",
    "# %cd neurogym/\n",
    "# ! pip install -e .\n"
   ]
  },
  {
   "cell_type": "markdown",
   "metadata": {
    "id": "V345Ur534ZPi"
   },
   "source": [
    "### Dataset"
   ]
  },
  {
   "cell_type": "code",
   "execution_count": 5,
   "metadata": {
    "colab": {
     "base_uri": "https://localhost:8080/"
    },
    "executionInfo": {
     "elapsed": 6122,
     "status": "ok",
     "timestamp": 1747645099389,
     "user": {
      "displayName": "Joao Barbosa",
      "userId": "11824080406490878906"
     },
     "user_tz": -120
    },
    "id": "ni5PGHe74ZPi",
    "outputId": "a032824b-876b-4f70-d979-b1241a1bf6cc"
   },
   "outputs": [
    {
     "name": "stderr",
     "output_type": "stream",
     "text": [
      "Warning: Gym version v0.24.1 has a number of critical issues with `gym.make` such that environment observation and action spaces are incorrectly evaluated, raising incorrect errors and warning . It is recommend to downgrading to v0.23.1 or upgrading to v0.25.1\n",
      "/Users/sepehr/Desktop/Ecole Normale/S2/CompNeuroMethods/.venv/lib/python3.9/site-packages/gym/envs/registration.py:396: UserWarning: \u001b[33mWARN: The `registry.all` method is deprecated. Please use `registry.values` instead.\u001b[0m\n",
      "  logger.warn(\n",
      "/Users/sepehr/Desktop/Ecole Normale/S2/CompNeuroMethods/.venv/lib/python3.9/site-packages/gym/utils/passive_env_checker.py:69: UserWarning: \u001b[33mWARN: Agent's minimum action space value is -infinity. This is probably too low.\u001b[0m\n",
      "  logger.warn(\n",
      "/Users/sepehr/Desktop/Ecole Normale/S2/CompNeuroMethods/.venv/lib/python3.9/site-packages/gym/utils/passive_env_checker.py:73: UserWarning: \u001b[33mWARN: Agent's maximum action space value is infinity. This is probably too high\u001b[0m\n",
      "  logger.warn(\n",
      "/Users/sepehr/Desktop/Ecole Normale/S2/CompNeuroMethods/.venv/lib/python3.9/site-packages/gym/utils/passive_env_checker.py:97: UserWarning: \u001b[33mWARN: We recommend you to use a symmetric and normalized Box action space (range=[-1, 1]) https://stable-baselines3.readthedocs.io/en/master/guide/rl_tips.html\u001b[0m\n",
      "  logger.warn(\n"
     ]
    }
   ],
   "source": [
    "import numpy as np\n",
    "import torch\n",
    "import torch.nn as nn\n",
    "\n",
    "import neurogym as ngym\n",
    "\n",
    "# Environment\n",
    "task = 'PerceptualDecisionMaking-v0'\n",
    "#task = 'ContextDecisionMaking-v0'\n",
    "\n",
    "kwargs = {'dt': 100}\n",
    "seq_len = 100\n",
    "\n",
    "# Make supervised dataset\n",
    "dataset = ngym.Dataset(task, env_kwargs=kwargs, batch_size=16,\n",
    "                       seq_len=seq_len)\n",
    "\n",
    "\n",
    "env = dataset.env\n",
    "ob_size = env.observation_space.shape[0]\n",
    "act_size = env.action_space.n"
   ]
  },
  {
   "cell_type": "markdown",
   "metadata": {
    "id": "p_N4xMYO4ZPi"
   },
   "source": [
    "### Network and Training"
   ]
  },
  {
   "cell_type": "code",
   "execution_count": 6,
   "metadata": {
    "colab": {
     "base_uri": "https://localhost:8080/"
    },
    "executionInfo": {
     "elapsed": 66933,
     "status": "ok",
     "timestamp": 1747645166327,
     "user": {
      "displayName": "Joao Barbosa",
      "userId": "11824080406490878906"
     },
     "user_tz": -120
    },
    "id": "QcUPZCly4ZPj",
    "outputId": "a2f70f75-5219-4d8d-d05f-a9c4f23b9272"
   },
   "outputs": [
    {
     "name": "stdout",
     "output_type": "stream",
     "text": [
      "200 loss: 0.10495\n",
      "400 loss: 0.02960\n",
      "600 loss: 0.01417\n",
      "800 loss: 0.01217\n",
      "1000 loss: 0.01147\n",
      "1200 loss: 0.01130\n",
      "1400 loss: 0.01087\n",
      "1600 loss: 0.01105\n",
      "1800 loss: 0.01074\n",
      "2000 loss: 0.01058\n",
      "Finished Training\n"
     ]
    }
   ],
   "source": [
    "class Net(nn.Module):\n",
    "    def __init__(self, num_h):\n",
    "        super(Net, self).__init__()\n",
    "        self.lstm = nn.LSTM(ob_size, num_h)\n",
    "        self.linear = nn.Linear(num_h, act_size)\n",
    "\n",
    "    def forward(self, x):\n",
    "        out, hidden = self.lstm(x)\n",
    "        x = self.linear(out)\n",
    "        return x\n",
    "\n",
    "device = 'cuda' if torch.cuda.is_available() else 'cpu'\n",
    "device = 'cpu'\n",
    "net = Net(num_h=64).to(device)\n",
    "criterion = nn.CrossEntropyLoss()\n",
    "optimizer = torch.optim.Adam(net.parameters(), lr=1e-2)\n",
    "\n",
    "running_loss = 0.0\n",
    "for i in range(2000):\n",
    "    inputs, labels = dataset()\n",
    "    inputs = torch.from_numpy(inputs).type(torch.float).to(device)\n",
    "    labels = torch.from_numpy(labels.flatten()).type(torch.long).to(device)\n",
    "\n",
    "    # zero the parameter gradients\n",
    "    optimizer.zero_grad()\n",
    "\n",
    "    # forward + backward + optimize\n",
    "    outputs = net(inputs)\n",
    "\n",
    "    loss = criterion(outputs.view(-1, act_size), labels)\n",
    "    loss.backward()\n",
    "    optimizer.step()\n",
    "\n",
    "    # print statistics\n",
    "    running_loss += loss.item()\n",
    "    if i % 200 == 199:\n",
    "        print('{:d} loss: {:0.5f}'.format(i + 1, running_loss / 200))\n",
    "        running_loss = 0.0\n",
    "\n",
    "print('Finished Training')"
   ]
  },
  {
   "cell_type": "markdown",
   "metadata": {
    "id": "6geL6Vk64ZPj"
   },
   "source": [
    "### Analysis"
   ]
  },
  {
   "cell_type": "code",
   "execution_count": 7,
   "metadata": {
    "colab": {
     "base_uri": "https://localhost:8080/"
    },
    "executionInfo": {
     "elapsed": 215,
     "status": "ok",
     "timestamp": 1747645166543,
     "user": {
      "displayName": "Joao Barbosa",
      "userId": "11824080406490878906"
     },
     "user_tz": -120
    },
    "id": "fe-XZf4o4ZPk",
    "outputId": "ae8a23ac-ce20-4969-8a15-d266af95bad9"
   },
   "outputs": [
    {
     "name": "stdout",
     "output_type": "stream",
     "text": [
      "Average performance in 200 trials\n",
      "0.88\n"
     ]
    }
   ],
   "source": [
    "# TODO: Make this into a function in neurogym\n",
    "perf = 0\n",
    "num_trial = 200\n",
    "for i in range(num_trial):\n",
    "    env.new_trial()\n",
    "    ob, gt = env.ob, env.gt\n",
    "    ob = ob[:, np.newaxis, :]  # Add batch axis\n",
    "    inputs = torch.from_numpy(ob).type(torch.float).to(device)\n",
    "\n",
    "    action_pred = net(inputs)\n",
    "    action_pred = action_pred.detach().numpy()\n",
    "    action_pred = np.argmax(action_pred, axis=-1)\n",
    "    perf += gt[-1] == action_pred[-1, 0]\n",
    "\n",
    "perf /= num_trial\n",
    "print('Average performance in {:d} trials'.format(num_trial))\n",
    "print(perf)"
   ]
  },
  {
   "cell_type": "code",
   "execution_count": 8,
   "metadata": {
    "colab": {
     "base_uri": "https://localhost:8080/",
     "height": 35
    },
    "executionInfo": {
     "elapsed": 13,
     "status": "ok",
     "timestamp": 1747645166558,
     "user": {
      "displayName": "Joao Barbosa",
      "userId": "11824080406490878906"
     },
     "user_tz": -120
    },
    "id": "zbkZXfUZ4ZPk",
    "outputId": "b1d7b808-2041-4139-bd7c-bb5e6db3b27d"
   },
   "outputs": [
    {
     "ename": "NameError",
     "evalue": "name 'get_modelpath' is not defined",
     "output_type": "error",
     "traceback": [
      "\u001b[0;31m---------------------------------------------------------------------------\u001b[0m",
      "\u001b[0;31mNameError\u001b[0m                                 Traceback (most recent call last)",
      "Cell \u001b[0;32mIn[8], line 12\u001b[0m\n\u001b[1;32m      1\u001b[0m \u001b[38;5;124;03m\"\"\"Run trained networks for analysis.\u001b[39;00m\n\u001b[1;32m      2\u001b[0m \n\u001b[1;32m      3\u001b[0m \u001b[38;5;124;03mArgs:\u001b[39;00m\n\u001b[0;32m   (...)\u001b[0m\n\u001b[1;32m     10\u001b[0m \u001b[38;5;124;03m    config: dict of network, training configurations\u001b[39;00m\n\u001b[1;32m     11\u001b[0m \u001b[38;5;124;03m\"\"\"\u001b[39;00m\n\u001b[0;32m---> 12\u001b[0m modelpath \u001b[38;5;241m=\u001b[39m \u001b[43mget_modelpath\u001b[49m(envid)\n\u001b[1;32m     13\u001b[0m \u001b[38;5;28;01mwith\u001b[39;00m \u001b[38;5;28mopen\u001b[39m(modelpath \u001b[38;5;241m/\u001b[39m \u001b[38;5;124m'\u001b[39m\u001b[38;5;124mconfig.json\u001b[39m\u001b[38;5;124m'\u001b[39m) \u001b[38;5;28;01mas\u001b[39;00m f:\n\u001b[1;32m     14\u001b[0m     config \u001b[38;5;241m=\u001b[39m json\u001b[38;5;241m.\u001b[39mload(f)\n",
      "\u001b[0;31mNameError\u001b[0m: name 'get_modelpath' is not defined"
     ]
    }
   ],
   "source": [
    "\"\"\"Run trained networks for analysis.\n",
    "\n",
    "Args:\n",
    "    envid: str, Environment ID\n",
    "\n",
    "Returns:\n",
    "    activity: a list of activity matrices, each matrix has shape (\n",
    "    N_time, N_neuron)\n",
    "    info: pandas dataframe, each row is information of a trial\n",
    "    config: dict of network, training configurations\n",
    "\"\"\"\n",
    "modelpath = get_modelpath(envid)\n",
    "with open(modelpath / 'config.json') as f:\n",
    "    config = json.load(f)\n",
    "\n",
    "env_kwargs = config['env_kwargs']\n",
    "\n",
    "# Run network to get activity and info\n",
    "# Environment\n",
    "env = gym.make(envid, **env_kwargs)\n",
    "env.timing = infer_test_timing(env)\n",
    "env.reset(no_step=True)\n",
    "\n",
    "# Instantiate the network and print information\n",
    "with torch.no_grad():\n",
    "    net = Net(input_size=env.observation_space.shape[0],\n",
    "              hidden_size=config['hidden_size'],\n",
    "              output_size=env.action_space.n)\n",
    "    net = net.to(device)\n",
    "    net.load_state_dict(torch.load(modelpath / 'net.pth'))\n",
    "\n",
    "    perf = 0\n",
    "    num_trial = 100\n",
    "\n",
    "    activity = list()\n",
    "    info = pd.DataFrame()\n",
    "\n",
    "    for i in range(num_trial):\n",
    "        env.new_trial()\n",
    "        ob, gt = env.ob, env.gt\n",
    "        inputs = torch.from_numpy(ob[:, np.newaxis, :]).type(torch.float)\n",
    "        action_pred, hidden = net(inputs)\n",
    "\n",
    "        # Compute performance\n",
    "        action_pred = action_pred.detach().numpy()\n",
    "        choice = np.argmax(action_pred[-1, 0, :])\n",
    "        correct = choice == gt[-1]\n",
    "\n",
    "        # Log trial info\n",
    "        trial_info = env.trial\n",
    "        trial_info.update({'correct': correct, 'choice': choice})\n",
    "        info = info.append(trial_info, ignore_index=True)\n",
    "\n",
    "        # Log stimulus period activity\n",
    "        activity.append(np.array(hidden)[:, 0, :])\n",
    "\n",
    "    print('Average performance', np.mean(info['correct']))\n",
    "\n",
    "activity = np.array(activity)\n"
   ]
  },
  {
   "cell_type": "code",
   "execution_count": 5,
   "metadata": {
    "executionInfo": {
     "elapsed": 2,
     "status": "ok",
     "timestamp": 1747645166574,
     "user": {
      "displayName": "Joao Barbosa",
      "userId": "11824080406490878906"
     },
     "user_tz": -120
    },
    "id": "fdtpwtCs-JP9"
   },
   "outputs": [],
   "source": []
  }
 ],
 "metadata": {
  "colab": {
   "provenance": []
  },
  "kernelspec": {
   "display_name": ".venv",
   "language": "python",
   "name": "python3"
  },
  "language_info": {
   "codemirror_mode": {
    "name": "ipython",
    "version": 3
   },
   "file_extension": ".py",
   "mimetype": "text/x-python",
   "name": "python",
   "nbconvert_exporter": "python",
   "pygments_lexer": "ipython3",
   "version": "3.9.22"
  }
 },
 "nbformat": 4,
 "nbformat_minor": 0
}
